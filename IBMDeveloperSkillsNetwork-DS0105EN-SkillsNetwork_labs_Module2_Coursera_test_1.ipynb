{
  "metadata": {
    "kernelspec": {
      "name": "python",
      "display_name": "Pyolite",
      "language": "python"
    },
    "language_info": {
      "codemirror_mode": {
        "name": "python",
        "version": 3
      },
      "file_extension": ".py",
      "mimetype": "text/x-python",
      "name": "python",
      "nbconvert_exporter": "python",
      "pygments_lexer": "ipython3",
      "version": "3.8"
    }
  },
  "nbformat_minor": 4,
  "nbformat": 4,
  "cells": [
    {
      "cell_type": "markdown",
      "source": "<center>\n    <img src=\"https://cf-courses-data.s3.us.cloud-object-storage.appdomain.cloud/IBMDeveloperSkillsNetwork-DS0105EN-SkillsNetwork/labs/Module2/images/SN_web_lightmode.png\" width=\"300\" alt=\"cognitiveclass.ai logo\">\n</center>\n",
      "metadata": {}
    },
    {
      "cell_type": "markdown",
      "source": "#### Add your code below following the instructions given in the course\n",
      "metadata": {}
    },
    {
      "cell_type": "markdown",
      "source": "# My Jupyter Notebook on IBM Watson Studio",
      "metadata": {}
    },
    {
      "cell_type": "markdown",
      "source": "**Okwan Isaac**<br>\nI want to become a Data Scientist\n\n",
      "metadata": {}
    },
    {
      "cell_type": "markdown",
      "source": "*I'm interested in data science because data science provides a way to extract insights and solve real-world problems using data.*\n",
      "metadata": {}
    },
    {
      "cell_type": "markdown",
      "source": "The code below is a simple code that adds two numbers 12 and 32 using variables",
      "metadata": {}
    },
    {
      "cell_type": "code",
      "source": "a = 12\nb = 32\nc = a + b\nc",
      "metadata": {
        "trusted": true
      },
      "execution_count": 6,
      "outputs": [
        {
          "execution_count": 6,
          "output_type": "execute_result",
          "data": {
            "text/plain": "44"
          },
          "metadata": {}
        }
      ]
    },
    {
      "cell_type": "markdown",
      "source": "This is a bullet list<br>\n<ul>\n<li>Male</li>\n<li>Female</li>\n<li>Not to say</li>\n</ul>\n\nThis is a numbered list<br>\n<ol>\n<li>Eat</li>\n<li>Code</li>\n<li>Sleep</li>\n</ol>\n\nClick the link below to open youtube<br>\n<a href=\"https://www.youtube.com\" >Click here</a>\n\nThe text below has a strike in it<br>\n<strike>strike text</strike>",
      "metadata": {}
    },
    {
      "cell_type": "code",
      "source": "",
      "metadata": {},
      "execution_count": null,
      "outputs": []
    }
  ]
}